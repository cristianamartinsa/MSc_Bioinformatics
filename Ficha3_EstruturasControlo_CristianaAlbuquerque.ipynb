{
 "cells": [
  {
   "cell_type": "markdown",
   "metadata": {},
   "source": [
    "# Estruturas de Controlo em Python🐍\n",
    "Jorge Gustavo Rocha\\\n",
    "Departamento de Informática, Universidade do Minho\\\n",
    "27 de abril de 2020\n",
    "\n",
    "Um programa geralmente não segue uma execução linear de todas as instruções.\n",
    "\n",
    "Há instruções que só que querem executar em determinadas condições. Para tal, usa-se uma estrutura de controlo:\n",
    "```\n",
    "if..else...\n",
    "```\n",
    "\n",
    "Noutros casos, pretende-se repetir múltiplas vezes o mesmo conjunto de instruções. Para tal, usam-se as estruturas de controlo:\n",
    "```\n",
    "while\n",
    "for\n",
    "```"
   ]
  },
  {
   "cell_type": "markdown",
   "metadata": {},
   "source": [
    "## Condições e declarações If\n",
    "O Python suporta as condições lógicas comuns da matemática:\n",
    "\n",
    "* Igualdade : `a == b`\n",
    "* Diferença : `a != b`\n",
    "* Menor : `a < b`\n",
    "* Menor ou igual : `a <= b`\n",
    "* Maior : `a > b`\n",
    "* Maior ou igual : `a >= b`\n",
    "\n",
    "Estas condições, em conjunto com qualquer outra que retorne um resultado do tipo `bool`, são normalmente utilizadas na construção de declarações `if else` ou em ciclos."
   ]
  },
  {
   "cell_type": "code",
   "execution_count": null,
   "metadata": {},
   "outputs": [],
   "source": [
    "a = 330\n",
    "b = 200\n",
    "if b > a:\n",
    "  print(\"b é maior do que a\")\n",
    "  \n",
    "else:\n",
    "  print(\"a é maior do que b\")"
   ]
  },
  {
   "cell_type": "markdown",
   "metadata": {},
   "source": [
    "### Indentação\n",
    "O Python depende da indentação (n.º de espaços antes de cada declaração) para definir o contexto de cada comando. Nas declarações `if else` e nos ciclos devemos ter especial atenção à indentação."
   ]
  },
  {
   "cell_type": "code",
   "execution_count": null,
   "metadata": {},
   "outputs": [],
   "source": [
    "a = 33\n",
    "b = 200\n",
    "if b > a:\n",
    "    print(\"b é maior do que a\")"
   ]
  },
  {
   "cell_type": "markdown",
   "metadata": {},
   "source": [
    "## Ciclos\n",
    "\n",
    "Noutros casos, pretende-se repetir múltiplas vezes o mesmo conjunto de instruções. Para tal, usam-se as estruturas de controlo `while` e `for`.\n",
    "\n",
    "O ciclo `while` executa um conjunto de instruções enquanto uma condição seja verdadeira."
   ]
  },
  {
   "cell_type": "code",
   "execution_count": 2,
   "metadata": {},
   "outputs": [
    {
     "name": "stdout",
     "output_type": "stream",
     "text": [
      "1\n",
      "2\n",
      "3\n",
      "4\n",
      "5\n"
     ]
    }
   ],
   "source": [
    "i = 1\n",
    "while i < 6:\n",
    "    print(i)\n",
    "    i = i + 1"
   ]
  },
  {
   "cell_type": "markdown",
   "metadata": {},
   "source": [
    "O ciclo `for` é usado para iterar sobre uma sequência (lista, tuplo, dicionário, conjunto, ou string). Com o ciclo `for`, podemos executar um conjunto de instruções para cada elemento de uma lista, dicionário, etc."
   ]
  },
  {
   "cell_type": "code",
   "execution_count": null,
   "metadata": {},
   "outputs": [],
   "source": [
    "frutas = [\"maça\", \"banana\", \"cereja\"]\n",
    "for fruta in frutas:\n",
    "  print(fruta.upper())"
   ]
  },
  {
   "cell_type": "markdown",
   "metadata": {},
   "source": [
    "### Declarações `break` e `continue`\n",
    "\n",
    "`break` é utilizado para sair de um ciclo `for` ou `while` antes de este terminar, enquanto que `continue` é utilizado para saltar a execução atual e continuar o ciclo na iteração seguinte."
   ]
  },
  {
   "cell_type": "code",
   "execution_count": null,
   "metadata": {},
   "outputs": [],
   "source": [
    "print('Imprimir números de 0 a 4')\n",
    "count = 0\n",
    "while True:\n",
    "    print(count)\n",
    "    count = count + 1\n",
    "    if count >= 5:\n",
    "        break"
   ]
  },
  {
   "cell_type": "code",
   "execution_count": null,
   "metadata": {},
   "outputs": [],
   "source": [
    "print('\\nImprimir números ímpares de 1 a 10')\n",
    "for x in range(10):\n",
    "    if x % 2 == 0:\n",
    "        continue\n",
    "    print(x)"
   ]
  },
  {
   "cell_type": "markdown",
   "metadata": {},
   "source": [
    "### Tratar exceções\n",
    "Quando ocorre um erro de execução, ou uma exceção como designamos em programação, o Python normalmente interrompe a execução e origina uma mensagem de erro.\n",
    "\n",
    "Essas exceções podem ser tratadas usando a instrução `try ... except`. Através desta estrutura de controlo podemos definir código alternativo para o caso de uma instrução resultar em erro.\n",
    "\n",
    "No seguinte exemplo utilizamos a função `divmod` para calcular o quociente e o resto da divisão inteira de um número introduzido pelo utilizador por 2. Com a utilização do `try ... except` garantimos que mesmo que o utilizador introduza dados que não possam ser convertidos para `int`, o programa não resulta em erro."
   ]
  },
  {
   "cell_type": "code",
   "execution_count": null,
   "metadata": {},
   "outputs": [],
   "source": [
    "num = input()\n",
    "try:\n",
    "    quociente, resto = divmod(int(num), 2)\n",
    "    print('A divisão de {} por {} tem como resultado quociente {} e resto {}'.format(num, 2, quociente, resto))\n",
    "except:\n",
    "    print('Por favor introduza um número inteiro')"
   ]
  },
  {
   "cell_type": "markdown",
   "metadata": {},
   "source": [
    "# Dados\n",
    "\n",
    "Para estes exercícios com estruturas de controlo, vamos usar caixas para entrada de dados (usando a função `input()` e as estruturas de dados seguintes."
   ]
  },
  {
   "cell_type": "code",
   "execution_count": 22,
   "metadata": {},
   "outputs": [],
   "source": [
    "import numpy as np\n",
    "populacao = { \"Amares\": 19853, \"Barcelos\": 124555, \"Braga\": 176154, \"Cabeceiras de Basto\": 17635, \"Celorico de Basto\": 19767, \"Esposende\": 35552, \"Fafe\": 53600, \"Guimarães\": 162636, \"Póvoa de Lanhoso\": 24230, \"Terras de Bouro\": 7506, \"Vieira do Minho\": 14077, \"Vila Nova de Famalicão\": 134969, \"Vila Verde\": 49171, \"Vizela\": 24477 }\n",
    "vel = np.array([ 50, 50, 70, 90, 120 ])"
   ]
  },
  {
   "cell_type": "markdown",
   "metadata": {},
   "source": [
    "## Entrada de dados\n",
    "\n",
    "1. (**Resolvido**) Leia o nome do utilizador e apresente o nome em maiúsculas."
   ]
  },
  {
   "cell_type": "code",
   "execution_count": 2,
   "metadata": {},
   "outputs": [
    {
     "name": "stdout",
     "output_type": "stream",
     "text": [
      "Jorge Gustavo\n"
     ]
    }
   ],
   "source": [
    "nome=input()"
   ]
  },
  {
   "cell_type": "code",
   "execution_count": 3,
   "metadata": {},
   "outputs": [
    {
     "data": {
      "text/plain": [
       "'JORGE GUSTAVO'"
      ]
     },
     "execution_count": 3,
     "metadata": {},
     "output_type": "execute_result"
    }
   ],
   "source": [
    "nome.upper()"
   ]
  },
  {
   "cell_type": "markdown",
   "metadata": {},
   "source": [
    "2. Leia um ano de nascimento e diga quantos anos o utilizador tem.\n",
    "3. Leia uma palavra e mostre-a de trás para frente. Use as sugestões do [stackoverflow](https://stackoverflow.com/questions/931092/reverse-a-string-in-python) para calcular a string ao contrário."
   ]
  },
  {
   "cell_type": "markdown",
   "metadata": {},
   "source": [
    "__Exercício 2__"
   ]
  },
  {
   "cell_type": "code",
   "execution_count": 11,
   "metadata": {},
   "outputs": [
    {
     "name": "stdin",
     "output_type": "stream",
     "text": [
      "Escreva o ano de nascimento: 1996\n"
     ]
    },
    {
     "name": "stdout",
     "output_type": "stream",
     "text": [
      "O utilizador tem 26 anos\n"
     ]
    }
   ],
   "source": [
    "from datetime import date\n",
    "hoje = date.today()\n",
    "ano_hoje = int(hoje.year)\n",
    "ano = int(input('Escreva o ano de nascimento:'))\n",
    "idade = ano_hoje - ano\n",
    "print('O utilizador tem {} anos'.format(idade))"
   ]
  },
  {
   "cell_type": "markdown",
   "metadata": {},
   "source": [
    "__Exercício 3__"
   ]
  },
  {
   "cell_type": "code",
   "execution_count": 13,
   "metadata": {},
   "outputs": [
    {
     "name": "stdin",
     "output_type": "stream",
     "text": [
      "Escreva uma palavra: Cristiana\n"
     ]
    },
    {
     "data": {
      "text/plain": [
       "'anaitsirC'"
      ]
     },
     "execution_count": 13,
     "metadata": {},
     "output_type": "execute_result"
    }
   ],
   "source": [
    "palavra = input('Escreva uma palavra:')\n",
    "inverso = palavra[::-1]\n",
    "inverso"
   ]
  },
  {
   "cell_type": "markdown",
   "metadata": {},
   "source": [
    "## Estruturas condicionais\n",
    "\n",
    "1. Leia um número de diga se é um número interiro.\n",
    "1. Leia um número de diga se é um número real.\n",
    "1. Leia um número de diga se é positivo, negativo ou zero.\n",
    "1. Leia um número e diga se é par ou ímpar, mas se e só se o número for inteiro. Se não for um inteiro, diga: \"Número inválido: tem que ser um número inteiro\"\n",
    "1. Leia a data de nascimento e diga a idade que o utilizador tem. Use a função `date.today()` para saber a data de hoje (tem que preceder com `from datetime import date`).\n",
    "1. Leia o nome próprio do utilizador. Responda 'válido', se o nome não contém nenhum espaço. Resposta 'inválido', se o nome contém um espaço como em `Ana Rita`, por exemplo."
   ]
  },
  {
   "cell_type": "markdown",
   "metadata": {},
   "source": [
    "__Exercício 1__"
   ]
  },
  {
   "cell_type": "code",
   "execution_count": 33,
   "metadata": {
    "tags": []
   },
   "outputs": [
    {
     "name": "stdin",
     "output_type": "stream",
     "text": [
      "Introduza um número: 12\n"
     ]
    },
    {
     "name": "stdout",
     "output_type": "stream",
     "text": [
      "O número introduzido é inteiro\n"
     ]
    }
   ],
   "source": [
    "#try...except\n",
    "numero = input('Introduza um número:')\n",
    "try:\n",
    "    n = int(numero)\n",
    "    print('O número introduzido é inteiro')\n",
    "except ValueError:\n",
    "    print('O número introduzido não é inteiro')"
   ]
  },
  {
   "cell_type": "code",
   "execution_count": 34,
   "metadata": {},
   "outputs": [
    {
     "name": "stdin",
     "output_type": "stream",
     "text": [
      "Introduza um número: 12.3\n"
     ]
    },
    {
     "name": "stdout",
     "output_type": "stream",
     "text": [
      "O número introduzido não é inteiro\n"
     ]
    }
   ],
   "source": [
    "#isdigit\n",
    "numero = input('Introduza um número:')\n",
    "if numero.isdigit():\n",
    "    print('O número introduzido é inteiro')\n",
    "else:\n",
    "    print('O número introduzido não é inteiro')"
   ]
  },
  {
   "cell_type": "code",
   "execution_count": 48,
   "metadata": {},
   "outputs": [
    {
     "name": "stdin",
     "output_type": "stream",
     "text": [
      "Introduza um número: 12.3\n"
     ]
    },
    {
     "name": "stdout",
     "output_type": "stream",
     "text": [
      "O número introduzido não é inteiro\n"
     ]
    }
   ],
   "source": [
    "#regular expressions \n",
    "import re\n",
    "numero = input('Introduza um número:')\n",
    "if re.search('^\\d+$', numero):\n",
    "    print('O número introduzido é inteiro')\n",
    "else:\n",
    "    print('O número introduzido não é inteiro')"
   ]
  },
  {
   "cell_type": "markdown",
   "metadata": {},
   "source": [
    "__Exercício 2__"
   ]
  },
  {
   "cell_type": "code",
   "execution_count": 7,
   "metadata": {},
   "outputs": [
    {
     "name": "stdin",
     "output_type": "stream",
     "text": [
      "Introduza um número: 9+3*i\n"
     ]
    },
    {
     "name": "stdout",
     "output_type": "stream",
     "text": [
      "O número introduzido não é real\n"
     ]
    }
   ],
   "source": [
    "#try...except\n",
    "numero = input('Introduza um número:')\n",
    "try:\n",
    "    float(numero)\n",
    "    print('O número introduzido é real')\n",
    "except ValueError:\n",
    "     print('O número introduzido não é real')"
   ]
  },
  {
   "cell_type": "markdown",
   "metadata": {},
   "source": [
    "__Exercício 3__"
   ]
  },
  {
   "cell_type": "code",
   "execution_count": 10,
   "metadata": {},
   "outputs": [
    {
     "name": "stdin",
     "output_type": "stream",
     "text": [
      "Introduza um número: 8\n"
     ]
    },
    {
     "name": "stdout",
     "output_type": "stream",
     "text": [
      "O número é positivo\n"
     ]
    }
   ],
   "source": [
    "numero = float(input('Introduza um número:'))\n",
    "if numero > 0:\n",
    "    print('O número é positivo')\n",
    "elif numero < 0:\n",
    "    print('O número é negativo')\n",
    "else:\n",
    "    print('O número é igual a zero')"
   ]
  },
  {
   "cell_type": "markdown",
   "metadata": {},
   "source": [
    "__Exercício 4__"
   ]
  },
  {
   "cell_type": "code",
   "execution_count": 16,
   "metadata": {},
   "outputs": [
    {
     "name": "stdin",
     "output_type": "stream",
     "text": [
      "Introduza um número: 9.3\n"
     ]
    },
    {
     "name": "stdout",
     "output_type": "stream",
     "text": [
      "Número inválido: tem que ser um número inteiro\n"
     ]
    }
   ],
   "source": [
    "numero = input('Introduza um número:')\n",
    "try:\n",
    "    n = int(numero)\n",
    "    if n % 2 == 0:\n",
    "        print('O número é par')\n",
    "    else:\n",
    "        print('O número é ímpar')\n",
    "except ValueError:\n",
    "    print('Número inválido: tem que ser um número inteiro')"
   ]
  },
  {
   "cell_type": "markdown",
   "metadata": {},
   "source": [
    "__Exercício 5__"
   ]
  },
  {
   "cell_type": "code",
   "execution_count": 54,
   "metadata": {},
   "outputs": [
    {
     "name": "stdin",
     "output_type": "stream",
     "text": [
      "Introduz o ano, o mês e o dia de nascimento: 1996 10 5\n"
     ]
    },
    {
     "name": "stdout",
     "output_type": "stream",
     "text": [
      "O utilizador tem 25 anos\n"
     ]
    }
   ],
   "source": [
    "import datetime\n",
    "from datetime import date\n",
    "hoje = date.today()\n",
    "ano, mes, dia = input('Introduz o ano, o mês e o dia de nascimento:').split()\n",
    "idade = hoje.year - int(ano)\n",
    "if hoje.month <= int(mes) and hoje.day < int(dia):\n",
    "    print('O utilizador tem {} anos'.format(idade-1))\n",
    "else:\n",
    "    print('O utilizador tem {} anos'.format(idade))"
   ]
  },
  {
   "cell_type": "markdown",
   "metadata": {},
   "source": [
    "__Exercício 6__"
   ]
  },
  {
   "cell_type": "code",
   "execution_count": 46,
   "metadata": {},
   "outputs": [
    {
     "name": "stdin",
     "output_type": "stream",
     "text": [
      "Introduza um nome próprio: Cristiana\n"
     ]
    },
    {
     "name": "stdout",
     "output_type": "stream",
     "text": [
      "O nome introduzido não contém espaços\n"
     ]
    }
   ],
   "source": [
    "import re\n",
    "nome = input('Introduza um nome próprio:')\n",
    "if re.search(' +', nome):\n",
    "    print('O nome introduzido contém espaços')\n",
    "else:\n",
    "    print('O nome introduzido não contém espaços')"
   ]
  },
  {
   "cell_type": "markdown",
   "metadata": {},
   "source": [
    "## Estruturas cíclicas: `for`\n",
    "\n",
    "1. Use um ciclo `for` para mostrar o nome dos concelhos do dicionário `populacao`.\n",
    "1. Use o mesmo ciclo `for` e mostre apenas os concelhos do dicionário `populacao` que têm mais de 50 000 habitantes\n",
    "1. Use um ciclo `for` para calcular a média das velocidades do vetor `vel`.\n",
    "1. Use um ciclo `for` para calcular a velocidade máxima que consta do vetor `vel`."
   ]
  },
  {
   "cell_type": "markdown",
   "metadata": {},
   "source": [
    "__Exercício 1__"
   ]
  },
  {
   "cell_type": "code",
   "execution_count": 55,
   "metadata": {},
   "outputs": [
    {
     "name": "stdout",
     "output_type": "stream",
     "text": [
      "Amares\n",
      "Barcelos\n",
      "Braga\n",
      "Cabeceiras de Basto\n",
      "Celorico de Basto\n",
      "Esposende\n",
      "Fafe\n",
      "Guimarães\n",
      "Póvoa de Lanhoso\n",
      "Terras de Bouro\n",
      "Vieira do Minho\n",
      "Vila Nova de Famalicão\n",
      "Vila Verde\n",
      "Vizela\n"
     ]
    }
   ],
   "source": [
    "populacao = { \"Amares\": 19853, \"Barcelos\": 124555, \"Braga\": 176154, \"Cabeceiras de Basto\": 17635, \"Celorico de Basto\": 19767, \"Esposende\": 35552, \"Fafe\": 53600, \"Guimarães\": 162636, \"Póvoa de Lanhoso\": 24230, \"Terras de Bouro\": 7506, \"Vieira do Minho\": 14077, \"Vila Nova de Famalicão\": 134969, \"Vila Verde\": 49171, \"Vizela\": 24477 }\n",
    "for concelhos in populacao:\n",
    "    print(concelhos)"
   ]
  },
  {
   "cell_type": "markdown",
   "metadata": {},
   "source": [
    "__Exercício 2__"
   ]
  },
  {
   "cell_type": "code",
   "execution_count": 2,
   "metadata": {},
   "outputs": [
    {
     "name": "stdout",
     "output_type": "stream",
     "text": [
      "Barcelos 124555\n",
      "Braga 176154\n",
      "Fafe 53600\n",
      "Guimarães 162636\n",
      "Vila Nova de Famalicão 134969\n"
     ]
    }
   ],
   "source": [
    "populacao = { \"Amares\": 19853, \"Barcelos\": 124555, \"Braga\": 176154, \"Cabeceiras de Basto\": 17635, \"Celorico de Basto\": 19767, \"Esposende\": 35552, \"Fafe\": 53600, \"Guimarães\": 162636, \"Póvoa de Lanhoso\": 24230, \"Terras de Bouro\": 7506, \"Vieira do Minho\": 14077, \"Vila Nova de Famalicão\": 134969, \"Vila Verde\": 49171, \"Vizela\": 24477 }\n",
    "for key, value in populacao.items():\n",
    "    if value > 50000:\n",
    "        print(key, value)"
   ]
  },
  {
   "cell_type": "code",
   "execution_count": 3,
   "metadata": {},
   "outputs": [
    {
     "name": "stdout",
     "output_type": "stream",
     "text": [
      "Barcelos\n",
      "Braga\n",
      "Fafe\n",
      "Guimarães\n",
      "Vila Nova de Famalicão\n"
     ]
    }
   ],
   "source": [
    "for c in populacao:\n",
    "    if populacao[c] > 50000:\n",
    "        print(c)"
   ]
  },
  {
   "cell_type": "markdown",
   "metadata": {},
   "source": [
    "__Exercício 3__"
   ]
  },
  {
   "cell_type": "code",
   "execution_count": 74,
   "metadata": {},
   "outputs": [
    {
     "name": "stdout",
     "output_type": "stream",
     "text": [
      "A média das velocidades é 76.0\n"
     ]
    }
   ],
   "source": [
    "import numpy as np\n",
    "vel = np.array([ 50, 50, 70, 90, 120 ])\n",
    "for velocidades in vel:\n",
    "    media = np.mean(vel)\n",
    "    print('A média das velocidades é {}'.format(media))\n",
    "    break"
   ]
  },
  {
   "cell_type": "markdown",
   "metadata": {},
   "source": [
    "__Exercício 4__"
   ]
  },
  {
   "cell_type": "code",
   "execution_count": 79,
   "metadata": {},
   "outputs": [
    {
     "name": "stdout",
     "output_type": "stream",
     "text": [
      "A velocidade máxima é 120\n"
     ]
    }
   ],
   "source": [
    "import numpy as np\n",
    "vel = np.array([ 50, 50, 70, 90, 120 ])\n",
    "for velocidades in vel:\n",
    "    maximo = max(vel)\n",
    "    print('A velocidade máxima é {}'.format(maximo))\n",
    "    break"
   ]
  },
  {
   "cell_type": "markdown",
   "metadata": {},
   "source": [
    "## Estruturas cíclicas: `while`\n",
    "\n",
    "1.  Use um ciclo `while` para percorrer o dicionário `populacao` e mostrar os concelhos que seriam precisos para juntar no mínimo 200 000 habitantes.\n",
    "1. Use um ciclo `while` para percorrer o dicionário `populacao` e mostrar os três primeiros concelhos que tenham o nome formado por mais do que uma palavra (como `\"Cabeceiras de Basto\"`, por exemplo."
   ]
  },
  {
   "cell_type": "markdown",
   "metadata": {},
   "source": [
    "__Exercício 1__"
   ]
  },
  {
   "cell_type": "code",
   "execution_count": 24,
   "metadata": {},
   "outputs": [
    {
     "name": "stdout",
     "output_type": "stream",
     "text": [
      "Amares 19853\n",
      "Barcelos 124555\n",
      "Braga 176154\n"
     ]
    },
    {
     "data": {
      "text/plain": [
       "320562"
      ]
     },
     "execution_count": 24,
     "metadata": {},
     "output_type": "execute_result"
    }
   ],
   "source": [
    "populacao = { \"Amares\": 19853, \"Barcelos\": 124555, \"Braga\": 176154, \"Cabeceiras de Basto\": 17635, \"Celorico de Basto\": 19767, \"Esposende\": 35552, \"Fafe\": 53600, \"Guimarães\": 162636, \"Póvoa de Lanhoso\": 24230, \"Terras de Bouro\": 7506, \"Vieira do Minho\": 14077, \"Vila Nova de Famalicão\": 134969, \"Vila Verde\": 49171, \"Vizela\": 24477 }\n",
    "total = 0\n",
    "for keys, values in populacao.items():\n",
    "    while total < 200000:\n",
    "        total += values\n",
    "        #print(total)\n",
    "        print(keys, values)\n",
    "        break"
   ]
  },
  {
   "cell_type": "markdown",
   "metadata": {},
   "source": [
    "__Exercício 2__"
   ]
  },
  {
   "cell_type": "code",
   "execution_count": 19,
   "metadata": {},
   "outputs": [
    {
     "name": "stdout",
     "output_type": "stream",
     "text": [
      "Cabeceiras de Basto\n",
      "Celorico de Basto\n",
      "Póvoa de Lanhoso\n"
     ]
    }
   ],
   "source": [
    "import re\n",
    "populacao = { \"Amares\": 19853, \"Barcelos\": 124555, \"Braga\": 176154, \"Cabeceiras de Basto\": 17635, \"Celorico de Basto\": 19767, \"Esposende\": 35552, \"Fafe\": 53600, \"Guimarães\": 162636, \"Póvoa de Lanhoso\": 24230, \"Terras de Bouro\": 7506, \"Vieira do Minho\": 14077, \"Vila Nova de Famalicão\": 134969, \"Vila Verde\": 49171, \"Vizela\": 24477 }\n",
    "count = 0\n",
    "for concelhos in populacao.keys():\n",
    "    while re.search(' +', concelhos):\n",
    "        if count < 3:\n",
    "            count = count + 1\n",
    "            print(concelhos)\n",
    "        break     "
   ]
  }
 ],
 "metadata": {
  "authors": [
   {
    "name": "Jorge Gustavo Rocha"
   }
  ],
  "kernelspec": {
   "display_name": "Python 3 (ipykernel)",
   "language": "python",
   "name": "python3"
  },
  "language_info": {
   "codemirror_mode": {
    "name": "ipython",
    "version": 3
   },
   "file_extension": ".py",
   "mimetype": "text/x-python",
   "name": "python",
   "nbconvert_exporter": "python",
   "pygments_lexer": "ipython3",
   "version": "3.9.12"
  }
 },
 "nbformat": 4,
 "nbformat_minor": 4
}

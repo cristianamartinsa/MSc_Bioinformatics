{
 "cells": [
  {
   "cell_type": "markdown",
   "metadata": {},
   "source": [
    "# Definição de funções em Python 🐍\n",
    "#### Jorge Gustavo Rocha<br/>Departamento de Informática, Universidade do Minho<br/>27 de abril de 2020\n",
    "\n",
    "Uma forma de resolver problemas complicados é dividi-los em problemas mais pequenos e assim sucessivamente.\n",
    "\n",
    "Em Informática, este forma de resolver os problemas é muito utilizada.\n",
    "\n",
    "Em Python, assim como em muitas outras linguagens de programação, criam-se classes, módulos ou funções para resolver os problemas mais pequenos.\n",
    "Os problems reais, mais complexos, são resolvidos por composição dessas classes, módulos ou funções.\n",
    "\n",
    "Nestes exercícios vamos aprender a definir novas funções.\n"
   ]
  },
  {
   "cell_type": "markdown",
   "metadata": {},
   "source": [
    "## Funções predefinidas\n",
    "Em Python existem muitas funções incluídas na própria linguagem e que já usou.\n",
    "\n",
    "Por exemplo, as funções `len()` e `sorted()` já foram usadas para calcular o tamanho de uma lista e ordená-la alfabeticamente, como se ilustra nos exemplos seguintes."
   ]
  },
  {
   "cell_type": "code",
   "execution_count": 1,
   "metadata": {},
   "outputs": [
    {
     "data": {
      "text/plain": [
       "8"
      ]
     },
     "execution_count": 1,
     "metadata": {},
     "output_type": "execute_result"
    }
   ],
   "source": [
    "planetas = [ 'Mercúrio', 'Vénus', 'Terra', 'Marte', 'Júpiter', 'Saturno', 'Urano', 'Neptuno']\n",
    "len(planetas)"
   ]
  },
  {
   "cell_type": "code",
   "execution_count": 2,
   "metadata": {},
   "outputs": [
    {
     "data": {
      "text/plain": [
       "['Júpiter',\n",
       " 'Marte',\n",
       " 'Mercúrio',\n",
       " 'Neptuno',\n",
       " 'Saturno',\n",
       " 'Terra',\n",
       " 'Urano',\n",
       " 'Vénus']"
      ]
     },
     "execution_count": 2,
     "metadata": {},
     "output_type": "execute_result"
    }
   ],
   "source": [
    "sorted(planetas)"
   ]
  },
  {
   "cell_type": "markdown",
   "metadata": {},
   "source": [
    "## Novas funções\n",
    "\n",
    "A declaração de novas funções tem a seguinte forma:\n",
    "```python\n",
    "def nome_da_função( parâmetros_de_entrada):\n",
    "    corpo_da_função\n",
    "    return parâmetros_de_saída\n",
    "```\n",
    "Esta forma diz-nos qual é a *sintaxe* específica do Python que se tem que utilizar. Contudo, para quem está a começar a programar em Python, ajuda mais começar por ver um exemplo concreto. \n",
    "\n",
    "Vamos começar por definir uma nova função muito simples. A partir desta definição, vamos explicar cada uma das componentes.\n",
    "\n",
    "Considere a nova função `euro()`, definida da seguinte forma:"
   ]
  },
  {
   "cell_type": "code",
   "execution_count": 3,
   "metadata": {},
   "outputs": [],
   "source": [
    "def euro(valor):\n",
    "    formatado = \"{:0.2f} €\".format( float(valor) )\n",
    "    return formatado"
   ]
  },
  {
   "cell_type": "markdown",
   "metadata": {},
   "source": [
    "Temos uma nova função designada `euro()` que recebe um valor e devolve uma string, devidamente formatada, recorrente ao método [`str.format`](https://docs.python.org/3/library/stdtypes.html#str.format) das strings.\n",
    "\n",
    "#### Utilização da nova função\n",
    "A nova função `euro()` pode ser utilizada como qualquer outra função predefinida, da seguinte forma:"
   ]
  },
  {
   "cell_type": "code",
   "execution_count": 4,
   "metadata": {},
   "outputs": [
    {
     "data": {
      "text/plain": [
       "'1287.40 €'"
      ]
     },
     "execution_count": 4,
     "metadata": {},
     "output_type": "execute_result"
    }
   ],
   "source": [
    "euro(1287.4)"
   ]
  },
  {
   "cell_type": "markdown",
   "metadata": {},
   "source": [
    "Outro exemplo de invocação da função `euro()`:"
   ]
  },
  {
   "cell_type": "code",
   "execution_count": 5,
   "metadata": {},
   "outputs": [
    {
     "name": "stdout",
     "output_type": "stream",
     "text": [
      "75\n",
      "92.25 €\n"
     ]
    }
   ],
   "source": [
    "preco = input()\n",
    "com_iva = float(preco) * 1.23\n",
    "print( euro( com_iva ))"
   ]
  },
  {
   "cell_type": "markdown",
   "metadata": {},
   "source": [
    "### Anatomia da função `euro()`\n",
    "\n",
    "A função `euro()` tem quatro componentes:\n",
    "\n",
    "#### Nome da função\n",
    "\n",
    "O nome da função pode ser um identificador qualquer que ainda não esteja a ser usado. Geralmente não se usam nomes começados por maiúscula (esses nomes usam-se para definir novas classes). Neste caso usou-se o nome `euro`.\n",
    "\n",
    "As palavras reservadas em Python não são muitas. Pode obter a lista dos __nomes que não pode usar__ para as suas funções com:"
   ]
  },
  {
   "cell_type": "code",
   "execution_count": 6,
   "metadata": {},
   "outputs": [
    {
     "name": "stdout",
     "output_type": "stream",
     "text": [
      "['False', 'None', 'True', 'and', 'as', 'assert', 'async', 'await', 'break', 'class', 'continue', 'def', 'del', 'elif', 'else', 'except', 'finally', 'for', 'from', 'global', 'if', 'import', 'in', 'is', 'lambda', 'nonlocal', 'not', 'or', 'pass', 'raise', 'return', 'try', 'while', 'with', 'yield']\n"
     ]
    }
   ],
   "source": [
    "import keyword\n",
    "print(keyword.kwlist)"
   ]
  },
  {
   "cell_type": "markdown",
   "metadata": {},
   "source": [
    "#### Parâmetros de entrada\n",
    "Esta função tem um parâmetro de entrada. Está à espera de um número. O número pode ser um inteiro ou um real. Se for um inteiro, é transformado em real com `float(valor)`. Se for já um real, a instrução anterior não altera o que já é um real."
   ]
  },
  {
   "cell_type": "markdown",
   "metadata": {},
   "source": [
    "#### Saída\n",
    "A função tem um parâmetro de saída, que é do tipo `str` (uma string). A saída corresponde à formatação adoptada para valores monetários em Euros."
   ]
  },
  {
   "cell_type": "markdown",
   "metadata": {},
   "source": [
    "#### Corpo da função\n",
    "O corpo da função corresponde ao processamento que é feito com os parâmetros de entrada até se conseguirem os valores para os parâmetros de saída. No caso desta função `euro()` o processamento é mesmo muito simples e está todo numa linha apenas:\n",
    "```python\n",
    "formatado = \"{:0.2f} €\".format( float(valor) )\n",
    "```"
   ]
  },
  {
   "cell_type": "markdown",
   "metadata": {},
   "source": [
    "## Exercícios iniciais\n",
    "Para cada exercício, comece por definir os parâmetros de entrada e de saída. Se isso não for feito com cuidado, não conseguirá chegar a uma boa solução.\n",
    "\n",
    "1. Calcule a área de um círculo, sabendo o raio.\n",
    "1. Escreva uma função que calcule o máximo de três números inteiros.\n",
    "1. Escreva uma função que calcule o total de segundos utilizados por um atleta numa prova, sabendo apenas o número de horas e minutos gastos."
   ]
  },
  {
   "cell_type": "markdown",
   "metadata": {},
   "source": [
    "__Exercício 1__"
   ]
  },
  {
   "cell_type": "code",
   "execution_count": 4,
   "metadata": {},
   "outputs": [
    {
     "name": "stdin",
     "output_type": "stream",
     "text": [
      "Intrpduza o valor do raio: 10\n"
     ]
    },
    {
     "name": "stdout",
     "output_type": "stream",
     "text": [
      "A área do círculo é 314.1592653589793\n"
     ]
    }
   ],
   "source": [
    "import math\n",
    "\n",
    "raio = float(input('Intrpduza o valor do raio:'))\n",
    "\n",
    "def area(raio):\n",
    "    area = math.pi*raio**2\n",
    "    return area\n",
    "\n",
    "print('A área do círculo é {}'.format(area(raio)))"
   ]
  },
  {
   "cell_type": "markdown",
   "metadata": {},
   "source": [
    "__Exercício 2__"
   ]
  },
  {
   "cell_type": "code",
   "execution_count": 18,
   "metadata": {},
   "outputs": [
    {
     "name": "stdin",
     "output_type": "stream",
     "text": [
      "Introduza três números separados por espaço: 1 4 56\n"
     ]
    },
    {
     "data": {
      "text/plain": [
       "'56'"
      ]
     },
     "execution_count": 18,
     "metadata": {},
     "output_type": "execute_result"
    }
   ],
   "source": [
    "n = input('Introduza três números separados por espaço:').split()\n",
    "\n",
    "def maximo(n):\n",
    "    maximo = max(n)\n",
    "    return maximo\n",
    "\n",
    "maximo(n)"
   ]
  },
  {
   "cell_type": "markdown",
   "metadata": {},
   "source": [
    "__Exercício 3__"
   ]
  },
  {
   "cell_type": "code",
   "execution_count": 28,
   "metadata": {},
   "outputs": [
    {
     "name": "stdin",
     "output_type": "stream",
     "text": [
      "Introduza as horas: 1 \n",
      "Introduza os minutos: 0\n"
     ]
    },
    {
     "data": {
      "text/plain": [
       "3600.0"
      ]
     },
     "execution_count": 28,
     "metadata": {},
     "output_type": "execute_result"
    }
   ],
   "source": [
    "horas = float(input('Introduza as horas:'))\n",
    "minutos = float(input('Introduza os minutos:'))\n",
    "\n",
    "def segundos(horas, minutos):\n",
    "    total_segundos = horas*60*60 + minutos*60\n",
    "    return total_segundos\n",
    "\n",
    "segundos(horas, minutos)"
   ]
  },
  {
   "cell_type": "code",
   "execution_count": 30,
   "metadata": {},
   "outputs": [
    {
     "name": "stdin",
     "output_type": "stream",
     "text": [
      "Introduza as horas: 1\n",
      "Introduza os minutos: 0\n"
     ]
    },
    {
     "name": "stdout",
     "output_type": "stream",
     "text": [
      "0\n"
     ]
    }
   ],
   "source": [
    "from datetime import time #TERMINAR\n",
    "\n",
    "horas = int(input('Introduza as horas:'))\n",
    "minutos = int(input('Introduza os minutos:'))\n",
    "\n",
    "tempo = time(horas, minutos)\n",
    "\n",
    "def segundos(tempo):\n",
    "    print(tempo.second)\n",
    "\n",
    "segundos(tempo)"
   ]
  },
  {
   "cell_type": "markdown",
   "metadata": {},
   "source": [
    "## Âmbito das variáveis em Python\n",
    "Dentro das funções pode-se (e deve-se) usar variáveis que só têm existem dentro dessa função. Fora da função não podem ser usadas.\n",
    "\n",
    "Na função `euro()`usamos uma variável `formatado` que fica com o valor da string que representa o valor monetário.  Se tentarmos usar o valor fora da função, não vamos ter acesso ao valor da variável dentro da função.\n",
    "\n",
    "O seguinte código funciona como esperado:"
   ]
  },
  {
   "cell_type": "code",
   "execution_count": 2,
   "metadata": {},
   "outputs": [
    {
     "name": "stdout",
     "output_type": "stream",
     "text": [
      "25.00 €\n"
     ]
    }
   ],
   "source": [
    "phones = 25\n",
    "\n",
    "def euro(valor):\n",
    "    formatado = \"{:0.2f} €\".format( float(valor) )\n",
    "    return formatado\n",
    "\n",
    "print( euro(phones) )"
   ]
  },
  {
   "cell_type": "markdown",
   "metadata": {},
   "source": [
    "Se quisermos usar o valor da variavél `formatado` o que acontece?"
   ]
  },
  {
   "cell_type": "code",
   "execution_count": 4,
   "metadata": {},
   "outputs": [
    {
     "ename": "NameError",
     "evalue": "name 'formatado' is not defined",
     "output_type": "error",
     "traceback": [
      "\u001b[0;31m---------------------------------------------------------------------------\u001b[0m",
      "\u001b[0;31mNameError\u001b[0m                                 Traceback (most recent call last)",
      "\u001b[0;32m<ipython-input-4-79f1d95150eb>\u001b[0m in \u001b[0;36m<module>\u001b[0;34m\u001b[0m\n\u001b[1;32m      5\u001b[0m     \u001b[0;32mreturn\u001b[0m \u001b[0mformatado\u001b[0m\u001b[0;34m\u001b[0m\u001b[0;34m\u001b[0m\u001b[0m\n\u001b[1;32m      6\u001b[0m \u001b[0;34m\u001b[0m\u001b[0m\n\u001b[0;32m----> 7\u001b[0;31m \u001b[0mprint\u001b[0m\u001b[0;34m(\u001b[0m \u001b[0meuro\u001b[0m\u001b[0;34m(\u001b[0m\u001b[0mphones\u001b[0m\u001b[0;34m)\u001b[0m\u001b[0;34m,\u001b[0m \u001b[0mformatado\u001b[0m \u001b[0;34m)\u001b[0m\u001b[0;34m\u001b[0m\u001b[0;34m\u001b[0m\u001b[0m\n\u001b[0m",
      "\u001b[0;31mNameError\u001b[0m: name 'formatado' is not defined"
     ]
    }
   ],
   "source": [
    "phones = 25\n",
    "\n",
    "def euro(valor):\n",
    "    formatado = \"{:0.2f} €\".format( float(valor) )\n",
    "    return formatado\n",
    "\n",
    "print( euro(phones), formatado )"
   ]
  },
  {
   "cell_type": "markdown",
   "metadata": {},
   "source": [
    "Este mecanismo serve para conter o código das funções independente de umas das outras e independente do código escrito fora das funções.\n",
    "\n",
    "Pelo contrário, as variáveis que são declaradas fora das funções estão definidas dentro e fora das funções, funcionado como variáveis globais. Veja o seguinte exemplo:"
   ]
  },
  {
   "cell_type": "code",
   "execution_count": 16,
   "metadata": {},
   "outputs": [
    {
     "name": "stdout",
     "output_type": "stream",
     "text": [
      "Viva o nosso professor 👍\n"
     ]
    }
   ],
   "source": [
    "import emoji\n",
    "\n",
    "profissão = 'professor'\n",
    "\n",
    "def viva():\n",
    "    print('Viva o nosso ' + profissão + emoji.emojize(' :thumbs_up:'))\n",
    "    \n",
    "viva()"
   ]
  },
  {
   "cell_type": "markdown",
   "metadata": {},
   "source": [
    "Como estas **variáveis declaradas fora das funções são globais**, podem ser alteradas dentro das funções. "
   ]
  },
  {
   "cell_type": "code",
   "execution_count": 17,
   "metadata": {},
   "outputs": [
    {
     "name": "stdout",
     "output_type": "stream",
     "text": [
      "Viva o nosso médico 👍\n"
     ]
    }
   ],
   "source": [
    "profissão = 'professor'\n",
    "\n",
    "def viva():\n",
    "    profissão = 'médico'\n",
    "    print('Viva o nosso ' + profissão + emoji.emojize(' :thumbs_up:'))\n",
    "    \n",
    "viva()"
   ]
  },
  {
   "cell_type": "markdown",
   "metadata": {},
   "source": [
    "É um mecanismo bastante flexível, mas é muito perigoso! É perigoso porque depois torna-se difícil saber ao certo onde a variável foi alterada e deixa-se de perceber o que está a acontecer no programa. Regra de ouro: __ao escrever programas, evite a utilização de variáveis globais__."
   ]
  },
  {
   "cell_type": "markdown",
   "metadata": {},
   "source": [
    "## Exercício de física\n",
    "![](imagens/projectile.png)\n",
    "Escreva uma função que determine a distância alcançada por um projéctil que é lançado com uma determinada velocidade inicial e um determinado ângulo em relação ao solo. Pode consultar as fórmulas na Internet ou mesmo ver um vídeo detalhado na [Khan Academy](https://youtu.be/ZZ39o1rAZWY).\n",
    "\n",
    "#### Radianos e graus\n",
    "As funções trigonométricas estão à espera de valores em radianos. Use a função `math.radians()` para converter o ângulo inicial em radianos (se a função receber um ângulo em graus)."
   ]
  },
  {
   "cell_type": "markdown",
   "metadata": {},
   "source": [
    "### Fórmulas\n",
    "\n",
    "Dada uma velocidade inicial $v_i$ e um ângulo inicial $\\theta_i$, as fórmulas que nos dão o alcance $R$, o tempo de voo $T$ e a altura máxima $h$ são:\n",
    "\n",
    "\\begin{align}\n",
    "R & = \\frac{v_i^2 \\cdot \\sin(2\\cdot \\theta_i)}{g} \\\\\n",
    "h & = \\frac{v_i^2 \\cdot \\sin(\\theta_i)^2}{2g} \\\\\n",
    "T & = \\frac{2 \\cdot v_i \\cdot \\sin(\\theta_i)}{g}\n",
    "\\end{align}\n",
    "\n",
    "Considera-se a [aceleração da gravidade](https://pt.wikipedia.org/wiki/Acelera%C3%A7%C3%A3o_da_gravidade) $g = 9.8 \\;m/s^2$.\n",
    "\n",
    "#### Resolução"
   ]
  },
  {
   "cell_type": "code",
   "execution_count": 1,
   "metadata": {},
   "outputs": [],
   "source": [
    "import math\n",
    "\n",
    "g = 9.8\n",
    "\n",
    "def alcance(vel, angulo):\n",
    "    '''\n",
    "    Função que devolve o alcance de um projétil lançado a uma determinada velocidade (vel) e ângulo inicial (angulo).\n",
    "    '''\n",
    "    alcance = vel**2*math.sin(math.radians(angulo)*2)/g\n",
    "    return alcance"
   ]
  },
  {
   "cell_type": "markdown",
   "metadata": {},
   "source": [
    "#### Exemplo de utilização"
   ]
  },
  {
   "cell_type": "code",
   "execution_count": 2,
   "metadata": {},
   "outputs": [
    {
     "name": "stdin",
     "output_type": "stream",
     "text": [
      " 10\n",
      " 45\n"
     ]
    },
    {
     "name": "stdout",
     "output_type": "stream",
     "text": [
      "O seu projéctil alcançou 10.20 metros.\n"
     ]
    }
   ],
   "source": [
    "vel = input()\n",
    "angulo = input()\n",
    "m = alcance( float(vel), float(angulo) )\n",
    "print( \"O seu projéctil alcançou {:0.2f} metros.\".format( m ) ) "
   ]
  },
  {
   "cell_type": "markdown",
   "metadata": {},
   "source": [
    "## Exercício complementar\n",
    "\n",
    "Escreva uma função que calcule a __distância ortodrómica__ aproximada entre dois pontos da terra `P` e `Q`.\n",
    "![](imagens/Illustration_of_great-circle_distance.svg.png)\n",
    "Os pontos `P` e `Q` são dados pelas respetivas coordenadas referentes à longitude (representada por *lambda*, $\\lambda$) e latitude (representada por *phi*, $\\phi$).\n",
    "Vamos usar a fórmula para o este cálculo apresentada na [Wikipédia](https://en.wikipedia.org/wiki/Great-circle_distance).\n",
    "\n",
    "Assim sendo, as coordenadas de `P` e `Q` são dadas por:\n",
    "$$P = \\lambda_{1}, \\phi_{1}$$\n",
    "$$Q = \\lambda_{2}, \\phi_{2}$$\n",
    "A distância $d$ é dada por:\n",
    "\n",
    "\\begin{align}\n",
    "r & = 6378137 \\\\\n",
    "\\Delta\\lambda & = \\lambda_{1}-\\lambda_{2} \\\\\n",
    "\\Delta\\sigma & = \\arccos\\bigl(\\sin\\phi_1\\cdot\\sin\\phi_2 + \\cos\\phi_1\\cdot\\cos\\phi_2\\cdot\\cos(\\Delta\\lambda)\\bigr) \\\\\n",
    "d & = r \\cdot \\Delta\\sigma\n",
    "\\end{align}\n",
    "\n",
    "\n",
    "#### Valores para teste\n",
    "Considere para testar a sua função os seguintes valores (apenas para exemplo):\n",
    "\n",
    "$$P_{\\lambda_{1}, \\phi_{1}} = -8.4542053, 40.5832343 $$\n",
    "$$Q_{\\lambda_{2}, \\phi_{2}} = -8.6533827, 40.6393801 $$\n",
    "\n",
    "Para obter outros valores para `P` e `Q` pode consultar as coordenadas de um ponto no mapa usando o [OpenStreetMap](https://www.openstreetmap.org/#map=12/41.5383/-8.4578) ou o [Google Maps](https://www.google.pt/maps/@41.5546094,-8.4789121,13z), entre outros.\n",
    "\n",
    "#### Parâmetros de entrada e de saída\n",
    "Comece por definir muito bem os parâmetros de entrada e de saída. Só depois se preocupe com o corpo da função.\n",
    "\n",
    "#### Radianos e graus\n",
    "As funções trigonométricas estão à espera de valores em radianos. Use a função `math.radians()` para converter os valores das coordenadas em graus em radianos."
   ]
  },
  {
   "cell_type": "markdown",
   "metadata": {},
   "source": [
    "### Resolução"
   ]
  },
  {
   "cell_type": "code",
   "execution_count": 59,
   "metadata": {},
   "outputs": [],
   "source": [
    "import math\n",
    "\n",
    "r = 6378137\n",
    "\n",
    "def dortodromica(x, y):\n",
    "    '''\n",
    "    Função que retorna a distância entre duas localizações dadas as suas longitudes e latitudes.\n",
    "    \n",
    "    x e y representam as duas localizações, representadas por x[longitude, latitude] e y[longitude, latitude].\n",
    "    '''\n",
    "    variacao_longitude = x[0] - y[0]\n",
    "    variacao_latitude = math.acos(math.sin(math.radians(x[1]))*math.sin(math.radians(y[1]))+\n",
    "                                  math.cos(math.radians(x[1]))*math.cos(math.radians(y[1]))*math.cos(math.radians(variacao_longitude)))\n",
    "    distancia = r*variacao_latitude\n",
    "    return distancia"
   ]
  },
  {
   "cell_type": "markdown",
   "metadata": {},
   "source": [
    "### Exemplo de utilização"
   ]
  },
  {
   "cell_type": "code",
   "execution_count": 62,
   "metadata": {},
   "outputs": [
    {
     "name": "stdout",
     "output_type": "stream",
     "text": [
      "A distância é de 17954.9 metros\n"
     ]
    }
   ],
   "source": [
    "#Utilizando os valores do enunciado\n",
    "braga = [-8.4542053, 40.5832343]\n",
    "guimaraes = [-8.6533827, 40.6393801]\n",
    "\n",
    "print( \"A distância é de {:0.1f} metros\".format(dortodromica(braga, guimaraes) ))"
   ]
  }
 ],
 "metadata": {
  "authors": [
   {
    "name": "Jorge Gustavo Rocha"
   }
  ],
  "kernelspec": {
   "display_name": "Python 3 (ipykernel)",
   "language": "python",
   "name": "python3"
  },
  "language_info": {
   "codemirror_mode": {
    "name": "ipython",
    "version": 3
   },
   "file_extension": ".py",
   "mimetype": "text/x-python",
   "name": "python",
   "nbconvert_exporter": "python",
   "pygments_lexer": "ipython3",
   "version": "3.9.12"
  }
 },
 "nbformat": 4,
 "nbformat_minor": 4
}
